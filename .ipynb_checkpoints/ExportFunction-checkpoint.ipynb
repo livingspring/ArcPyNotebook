{
 "cells": [
  {
   "cell_type": "markdown",
   "metadata": {},
   "source": [
    "# Export image function notebook\n"
   ]
  },
  {
   "cell_type": "markdown",
   "metadata": {},
   "source": [
    "## This note book is for exporting the images from nicfi and sentinel datasource\n",
    "\n",
    "\n",
    "### the exporting rules:\n",
    "- Target shapefile: 1823_ADRSM\n",
    "- Important field:`DEN_BOT`,`AREA_HA`,`Index`,`SHAPE@`\n",
    "- Only export the `AREA_HA` > 10\n",
    "- nicfi datasource imported by gee in python notebook\n",
    "- Sentinel2 could imported by several channel, in this solution is Using arcgis pro Living Atlas (AWS host)\n",
    "- Dynamic scale properties:\n",
    "        - size <10ha , image will scall at 8 times \n",
    "        - the shape 10 ha < size < 50ha , image will scall at 5 times.\n",
    "        - 50ha < shape size < 100ha,  image will scall at 2 times\n",
    "        - shape size> 100ha, image will scall at 1.3times\n",
    "\n",
    " Five Years and 60 image for each dumpsite and using nicif  \n",
    "\n",
    "### Usage:  \n",
    "- 1. Each block have the function description\n",
    "- 2. Nicfi: \n",
    "        - Get nicif\n",
    "        - Add nicif\n",
    "        - Determin the date range ( check the new update)\n",
    "        - Get Project, layout, map, mapview, mapframe\n",
    "        - Processing other Exporting \n",
    "- 3. Sentinel: - Add sentinel data from Livingatlas( or other resoucre option )\n",
    "\n",
    "- 4. Export mutliple date's images (5 years x 12 month) of each shape\n",
    "\n",
    "### Environment:\n",
    "- Arcgis pro 3.2.2\n",
    "- Python 3.8.19"
   ]
  },
  {
   "cell_type": "markdown",
   "metadata": {},
   "source": [
    "## Basic Function\n",
    "Run basic before export."
   ]
  },
  {
   "cell_type": "code",
   "execution_count": 2,
   "metadata": {},
   "outputs": [
    {
     "name": "stdout",
     "output_type": "stream",
     "text": [
      "1823\n",
      "Import, and load shape\n"
     ]
    }
   ],
   "source": [
    "# lib import \n",
    "\n",
    "import arcpy\n",
    "# check the shapefile return selected count of feature class\n",
    "print(arcpy.GetCount_management(\"1823_ADRSM\")) # if selected 1 it will return 1\n",
    "\n",
    "print(\"Import, and load shape\")"
   ]
  },
  {
   "cell_type": "code",
   "execution_count": 3,
   "metadata": {},
   "outputs": [
    {
     "name": "stdout",
     "output_type": "stream",
     "text": [
      "basemap loaded\n"
     ]
    }
   ],
   "source": [
    "# Get nicif\n",
    "\n",
    "# add gee into arcgispro\n",
    "import ee\n",
    "import geemap\n",
    "\n",
    "# Trigger the authentication flow.\n",
    "ee.Authenticate()\n",
    "\n",
    "# Initialize the library.\n",
    "ee.Initialize(project='ee-qinheyi')\n",
    "\n",
    "# init the map\n",
    "m=geemap.Map()\n",
    "\n",
    "nicfi = ee.ImageCollection('projects/planet-nicfi/assets/basemaps/americas')\n",
    "\n",
    "def getDateRange(imageCollection:ee.ImageCollection):\n",
    "    dateRange=imageCollection.aggregate_array('system:time_start')\n",
    "    date_list=[ee.Date(date).format().getInfo() for date in dateRange.getInfo()]\n",
    "    print(date_list)\n",
    "    return date_list\n",
    "\n",
    "# imageRange=getDateRange(nicfi) # because of the server-side function.\n",
    "\n",
    "baseMap=nicfi.filter(ee.Filter.date('2024-02-01','2025-01-11')).sort('system:time_start', False).first()\n",
    "\n",
    "print(\"basemap loaded\")"
   ]
  },
  {
   "cell_type": "code",
   "execution_count": 4,
   "metadata": {
    "scrolled": true
   },
   "outputs": [
    {
     "data": {
      "application/vnd.jupyter.widget-view+json": {
       "model_id": "cd8a1cb72f2941e986ca5ff47c985397",
       "version_major": 2,
       "version_minor": 0
      },
      "text/plain": [
       "Map(center=[0, 0], controls=(WidgetControl(options=['position', 'transparent_bg'], widget=SearchDataGUI(childr…"
      ]
     },
     "metadata": {},
     "output_type": "display_data"
    }
   ],
   "source": [
    "# Add nicif\n",
    "\n",
    "# m.centerObject(baseMap,4)\n",
    "# vis={'bands':['R','G','B'],'min':64,'max':5454,'gamma':1.8}  # original vis\n",
    "vis={'bands':['R','G','B'],'min':500,'max':3500,'gamma':2.0}\n",
    "m.addLayer(baseMap,vis,'nicfi')\n",
    "m.height='1600px'\n",
    "display(m)"
   ]
  },
  {
   "cell_type": "code",
   "execution_count": 10,
   "metadata": {},
   "outputs": [
    {
     "name": "stdout",
     "output_type": "stream",
     "text": [
      "current layout name: JpegExport\n",
      "-8725777.25013771 -1059076.9692436 -8719866.87289414 -1055220.70432239 NaN NaN NaN NaN\n",
      "mapname:  Map\n",
      "mfname:  Map Frame\n"
     ]
    }
   ],
   "source": [
    "# Get Project, layout, map, mapview, mapframe\n",
    "\n",
    "current_project=arcpy.mp.ArcGISProject(\"CURRENT\")\n",
    "layout=current_project.listLayouts()[1]  # 0 is the dataframe drive layout(text,area) # 1 is the \n",
    "amap=current_project.listMaps()[0]\n",
    "mv=current_project.activeView    #mv=amap.defaultView\n",
    "mf= layout.listElements(\"MAPFRAME_ELEMENT\")[0]  #get the mapframe in the layout\n",
    "\n",
    "print(\"current layout name:\",layout.name)\n",
    "print(mv.camera.getExtent ())\n",
    "print(\"mapname: \",amap.name)\n",
    "print(\"mfname: \",mf.name)"
   ]
  },
  {
   "cell_type": "markdown",
   "metadata": {},
   "source": [
    "## Exporting func by certain time"
   ]
  },
  {
   "cell_type": "code",
   "execution_count": 7,
   "metadata": {},
   "outputs": [],
   "source": [
    "# this function is for export the images \n",
    "# it can be call onetime or iterate all in different year and month datasource set\n",
    "import os\n",
    "\n",
    "#only based on the shape \"1823_ADRSM\" and the \n",
    "fc = \"1823_ADRSM\"\n",
    "fields = ['DEN_BOT','AREA_HA','Index',\"SHAPE@\" ]\n",
    "default_path=r\"C:\\Users\\lycaz\\Desktop\\output\"\n",
    "\n",
    "def export_image(time,isScale=True,path=default_path,src_label=\"nicfi\"):\n",
    "    \"\"\"\n",
    "    Brief description of the function.\n",
    "\n",
    "    Parameters:\n",
    "    isScale (Bool): set for whether dynamic-scale or not \n",
    "    time (str): Description of param2.\n",
    "    path(str): which folder you want to saved\n",
    "    \n",
    "    Returns:\n",
    "    type: Description of what the function returns.\n",
    "    \"\"\"\n",
    "    if os.path.exists(path)==False:\n",
    "        print(\"Path does not exist.\")\n",
    "        return\n",
    "    \n",
    "    with arcpy.da.SearchCursor(fc, fields) as cursor:\n",
    "        count_im=0\n",
    "        for row in cursor:\n",
    "            #print(u'{0}, {1},{2}'.format(row[2],row[0], row[1]))\n",
    "            print(f\" Processing index {row[2]} {row[0]}\", end=\"\\r\")\n",
    "            if row[1] > 10:\n",
    "                count_im+=1\n",
    "                print(f\"image coount {count_im}\", end=\"\\r\")\n",
    "                geometry=row[3]\n",
    "                mv.camera.setExtent(geometry.extent)\n",
    "                amap.defaultCamera=mv.camera\n",
    "                amap.defaultCamera.scale*=1.5\n",
    "                mf.camera.setExtent(amap.defaultCamera.getExtent())\n",
    "                if isScale:\n",
    "                    if row[1]<10:\n",
    "                        mf.camera.scale*=8\n",
    "                    elif row[1]<20:\n",
    "                        mf.camera.scale*=5\n",
    "                    elif row[1]<100:\n",
    "                        mf.camera.scale*=2\n",
    "                    else:\n",
    "                        mf.camera.scale*=1.3\n",
    "                ele=layout.listElements(wildcard=\"Text\")[0]\n",
    "                ele.text=f\"{row[2]}-{row[0]}-{time}-{row[1]:.2f}ha\"\n",
    "                ele_source=layout.listElements(wildcard=\"Text 1\")[0]\n",
    "                ele_source.text=src_label\n",
    "                layout.exportToJPEG(f\"{path}\\\\{str(row[2])}-{time}-{src_label}.jpg\",resolution=300)\n",
    "        print('\\n')\n",
    "        print(f\"Complete current the image in: {time} \")\n",
    "    \n",
    "    \n",
    "    \n",
    "    \n",
    "    "
   ]
  },
  {
   "cell_type": "code",
   "execution_count": null,
   "metadata": {},
   "outputs": [
    {
     "name": "stdout",
     "output_type": "stream",
     "text": [
      "image coount 18ex 1027 Botadero Municipal Sector La Antenauan Quinuatarpuna / Ccalapatanuruyaipalescas\r"
     ]
    }
   ],
   "source": [
    "# Call once Exporting example of one certain year based on currently tile file\n",
    "# Before exporting, confirm the layout is setting well, the tile map is loaded and the shapefile is outlined.\n",
    "\n",
    "\n",
    "\n",
    "# get the certain shape of shapefile  and iterate the shapefile\n",
    "# handle the mv (mapview), do not effect the layout \n",
    "import time \n",
    "start_time = time.time()\n",
    "\n",
    "fc = \"1823_ADRSM\"\n",
    "fields = ['DEN_BOT','AREA_HA','Index',\"SHAPE@\" ]\n",
    "\n",
    "path=r\"C:\\Users\\lycaz\\Desktop\\output\"    # schange it before exporting !!!!!!\n",
    "time_stamp=\"202403\"                         # check it as well \n",
    "text_datasource=\"Sentinal\" # or \"Nicif\" \"Sentinel\"        # change it bfore export \n",
    "\n",
    "# call the exporting function\n",
    "export_image(time_stamp,True,path,\"nicfi\")\n",
    "\n",
    "stop_time = time.time()\n",
    "elapsed_time = stop_time - start_time\n",
    "\n",
    "print(f\"Start time: {time.ctime(start_time)}\")\n",
    "print(f\"Stop time: {time.ctime(stop_time)}\")\n",
    "print(f\"Elapsed time: {elapsed_time:.2f} seconds\")"
   ]
  },
  {
   "cell_type": "markdown",
   "metadata": {},
   "source": [
    "## Exporting image by time series"
   ]
  },
  {
   "cell_type": "code",
   "execution_count": 5,
   "metadata": {},
   "outputs": [
    {
     "name": "stdout",
     "output_type": "stream",
     "text": [
      "50\n",
      "Date: ['2024-03-01', '2024-02-01', '2024-01-01', '2023-12-01', '2023-11-01', '2023-10-01', '2023-09-01', '2023-08-01', '2023-07-01', '2023-06-01', '2023-05-01', '2023-04-01', '2023-03-01', '2023-02-01', '2023-01-01', '2022-12-01', '2022-11-01', '2022-10-01', '2022-09-01', '2022-08-01', '2022-07-01', '2022-06-01', '2022-05-01', '2022-04-01', '2022-03-01', '2022-02-01', '2022-01-01', '2021-12-01', '2021-11-01', '2021-10-01', '2021-09-01', '2021-08-01', '2021-07-01', '2021-06-01', '2021-05-01', '2021-04-01', '2021-03-01', '2021-02-01', '2021-01-01', '2020-12-01', '2020-11-01', '2020-10-01', '2020-09-01', '2020-06-01', '2019-12-01', '2019-06-01', '2018-12-01', '2018-06-01', '2017-12-01', '2017-06-01']\n"
     ]
    }
   ],
   "source": [
    "# Function for exporting history images in 5x12 month from nicfi source , n shapes x 60 images\n",
    "# Get 60 tile layers and add it to imageview each layer export n shape. There is no built in function to change one layer and update the layer to certain date.\n",
    "\n",
    "\n",
    "# Check the times. \n",
    "# from \"2017-01-01\" to \"2024-05-01\"  to get 50 date from the collection\n",
    "start_date=\"2017-01-01\"\n",
    "end_date=\"2024-05-01\"\n",
    "\n",
    "nicfi_collection=nicfi.filter(ee.Filter.date(start_date,end_date)).sort('system:time_start', False)\n",
    "dates=nicfi_collection.aggregate_array('system:time_start')\n",
    "# Convert dates to a list and label_list\n",
    "dates_list = dates.getInfo()\n",
    "date_lables=[]\n",
    "# Iterate over the dates and print them out\n",
    "print(len(dates_list))\n",
    "for date in dates_list:\n",
    "    date_lables.append(ee.Date(date).format(\"YYYY-MM-dd\").getInfo())\n",
    "print(\"Date:\",date_lables)\n",
    "\n"
   ]
  },
  {
   "cell_type": "code",
   "execution_count": 6,
   "metadata": {},
   "outputs": [
    {
     "name": "stdout",
     "output_type": "stream",
     "text": [
      "Adding Date Range: 2024-03-01 2024-04-01\n",
      "Adding Date Range: 2024-02-01 2024-03-01\n",
      "Adding Date Range: 2024-01-01 2024-02-01\n",
      "Adding Date Range: 2023-12-01 2024-01-01\n",
      "Adding Date Range: 2023-11-01 2023-12-01\n",
      "Adding Date Range: 2023-10-01 2023-11-01\n",
      "Adding Date Range: 2023-09-01 2023-10-01\n",
      "Adding Date Range: 2023-08-01 2023-09-01\n",
      "Adding Date Range: 2023-07-01 2023-08-01\n",
      "Adding Date Range: 2023-06-01 2023-07-01\n",
      "Adding Date Range: 2023-05-01 2023-06-01\n",
      "Adding Date Range: 2023-04-01 2023-05-01\n",
      "Adding Date Range: 2023-03-01 2023-04-01\n",
      "Adding Date Range: 2023-02-01 2023-03-01\n",
      "Adding Date Range: 2023-01-01 2023-02-01\n",
      "Adding Date Range: 2022-12-01 2023-01-01\n",
      "Adding Date Range: 2022-11-01 2022-12-01\n",
      "Adding Date Range: 2022-10-01 2022-11-01\n",
      "Adding Date Range: 2022-09-01 2022-10-01\n",
      "Adding Date Range: 2022-08-01 2022-09-01\n",
      "Adding Date Range: 2022-07-01 2022-08-01\n",
      "Adding Date Range: 2022-06-01 2022-07-01\n",
      "Adding Date Range: 2022-05-01 2022-06-01\n",
      "Adding Date Range: 2022-04-01 2022-05-01\n",
      "Adding Date Range: 2022-03-01 2022-04-01\n",
      "Adding Date Range: 2022-02-01 2022-03-01\n",
      "Adding Date Range: 2022-01-01 2022-02-01\n",
      "Adding Date Range: 2021-12-01 2022-01-01\n",
      "Adding Date Range: 2021-11-01 2021-12-01\n",
      "Adding Date Range: 2021-10-01 2021-11-01\n",
      "Adding Date Range: 2021-09-01 2021-10-01\n",
      "Adding Date Range: 2021-08-01 2021-09-01\n",
      "Adding Date Range: 2021-07-01 2021-08-01\n",
      "Adding Date Range: 2021-06-01 2021-07-01\n",
      "Adding Date Range: 2021-05-01 2021-06-01\n",
      "Adding Date Range: 2021-04-01 2021-05-01\n",
      "Adding Date Range: 2021-03-01 2021-04-01\n",
      "Adding Date Range: 2021-02-01 2021-03-01\n",
      "Adding Date Range: 2021-01-01 2021-02-01\n",
      "Adding Date Range: 2020-12-01 2021-01-01\n",
      "Adding Date Range: 2020-11-01 2020-12-01\n",
      "Adding Date Range: 2020-10-01 2020-11-01\n",
      "Adding Date Range: 2020-09-01 2020-10-01\n",
      "Adding Date Range: 2020-06-01 2020-07-01\n",
      "Adding Date Range: 2019-12-01 2020-01-01\n",
      "Adding Date Range: 2019-06-01 2019-07-01\n",
      "Adding Date Range: 2018-12-01 2019-01-01\n",
      "Adding Date Range: 2018-06-01 2018-07-01\n",
      "Adding Date Range: 2017-12-01 2018-01-01\n",
      "Adding Date Range: 2017-06-01 2017-07-01\n",
      "Layed load done\n"
     ]
    }
   ],
   "source": [
    "# iterate the time and export in each iteration\n",
    "\n",
    "# find the shapefile layer and always put it to top\n",
    "target_layer_name=\"1823_ADRSM\"\n",
    "top_layer=None\n",
    "for lyr in amap.listLayers():\n",
    "    if lyr.name==target_layer_name:\n",
    "        top_layer=lyr\n",
    "\n",
    "def put_layer_top(ta_map=amap,ta_layer=top_layer):\n",
    "    if ta_layer is not None:\n",
    "        ta_map.moveLayer(ta_layer,\"TOP\")\n",
    "        print(f\"{ta_layer}Layer moved to the top successfully.\")\n",
    "    else:\n",
    "        print(\"Layer not found in the map.\")\n",
    "\n",
    "for i,date in enumerate(dates_list):\n",
    "    month=ee.Date(date).get('month').getInfo()\n",
    "    s_d=ee.Date(date).format(\"YYYY-MM-dd\").getInfo()\n",
    "    e_d=ee.Date(date).advance(1, 'month').format(\"YYYY-MM-dd\").getInfo()\n",
    "    print(\"Adding Date Range:\",s_d,e_d)\n",
    "    image=nicfi.filter(ee.Filter.date(s_d,e_d)).sort('system:time_start', False).first()\n",
    "    # image = ee.Image(nicfi_collection.filterDate(ee.Date(date), ee.Date(date).advance(1, 'month')).first())\n",
    "    layer_name = ee.Date(date).format(\"YYYY-MM-dd\").getInfo()\n",
    "    m.addLayer(image,vis,layer_name)\n",
    "    put_layer_top(amap,top_layer)\n",
    "    \n",
    "    \n",
    "    \n",
    "print(\"Layed load done\")  \n"
   ]
  },
  {
   "cell_type": "markdown",
   "metadata": {},
   "source": [
    "## Other function"
   ]
  },
  {
   "cell_type": "markdown",
   "metadata": {},
   "source": [
    "### Center certain shape"
   ]
  },
  {
   "cell_type": "code",
   "execution_count": 31,
   "metadata": {},
   "outputs": [
    {
     "name": "stdout",
     "output_type": "stream",
     "text": [
      "181.24151696\n",
      "<class 'arcpy.arcobjects.geometries.Polygon'>\n",
      "[<Polygon object at 0x1f38ab44070[0x1f30ed3fde0]>]\n",
      "0.025418119999999433 0.019702124999994908\n",
      "-76.116801368 -13.3816299269999 -76.097099243 -13.3562118069999 0 0 nan nan\n"
     ]
    }
   ],
   "source": [
    "# Function for timely review the imagry\n",
    "# iterate all time from recently 5 years \n",
    "# show it in certain place \n",
    "\n",
    "\n",
    "\n",
    "# function to query certain shape return the geometrys , using index ,using size ha as query_str\n",
    "def query_geometry(query_str):\n",
    "    geometries = []\n",
    "    # Use a search cursor to iterate over the features that match the query\n",
    "    with arcpy.da.SearchCursor(\"1823_ADRSM\", ['AREA_HA','SHAPE@'], where_clause=query_str) as cursor:\n",
    "        for row in cursor:\n",
    "            # Access the geometry of each feature\n",
    "            geometry = row[1]\n",
    "            # Add the geometry to the list\n",
    "            geometries.append(geometry)\n",
    "            print(row[0])\n",
    "            print(type(row[1]))\n",
    "    return geometries\n",
    "\n",
    "\n",
    "# showcase of using query_geometry and center it \n",
    "sql_query=\"Index=1171\"\n",
    "selected_geo=query_geometry(sql_query)\n",
    "if len(selected_geo)==1:\n",
    "    print(selected_geo)\n",
    "    print(selected_geo[0].extent.height,selected_geo[0].extent.width)\n",
    "    # center to this geo\n",
    "    #mv.panToExtent(selected_geo[0].extent)\n",
    "    #mv.camera.setExtent(selected_geo[0].extent)\n",
    "    amap.defaultCamera.setExtent(selected_geo[0].extent)\n",
    "    amap.defaultCamera.scale*=1.5\n",
    "    \n",
    "    print(mv.camera.getExtent ())\n",
    "\n",
    "    \n",
    "\n",
    "    "
   ]
  },
  {
   "cell_type": "code",
   "execution_count": null,
   "metadata": {},
   "outputs": [],
   "source": [
    "# TODO \n",
    "# change basemap\n",
    "start_year=2019\n",
    "end_year=2024\n",
    "date_list=[]\n",
    "for i in range(start_year,end_year):\n",
    "    for j in range(3,13):\n",
    "        if j >9:\n",
    "            date_list.append(f\"{i}-{j}-01\")\n",
    "        else:\n",
    "            date_list.append(f\"{i}-0{j}-01\")\n",
    "    date_list.append(f\"{i+1}-01-01\")\n",
    "    date_list.append(f\"{i+1}-02-01\")\n",
    "\n",
    " "
   ]
  },
  {
   "cell_type": "code",
   "execution_count": 82,
   "metadata": {
    "scrolled": false
   },
   "outputs": [
    {
     "name": "stdout",
     "output_type": "stream",
     "text": [
      "<class 'ee.image.Image'>\n",
      "{'mapid': 'projects/ee-qinheyi/maps/a8747266b8de80cffe594a0c078b3b4c-4115f79a30eba797b6c398402fa88132', 'token': '', 'tile_fetcher': <ee.data.TileFetcher object at 0x000001F39CC21070>, 'image': <ee.image.Image object at 0x000001F39CC4F4F0>}\n",
      "https://earthengine.googleapis.com/v1/projects/ee-qinheyi/maps/a8747266b8de80cffe594a0c078b3b4c-4115f79a30eba797b6c398402fa88132/tiles/{z}/{x}/{y}\n",
      "https://earthengine.googleapis.com/v1/projects/ee-qinheyi/maps/a8747266b8de80cffe594a0c078b3b4c-e42174e0132e6abec57d4116f009c856/tiles/{z}/{x}/{y}\n"
     ]
    }
   ],
   "source": [
    "# Get the url of the tile layer from GEE.\n",
    "from geemap.ee_tile_layers import _get_tile_url_format\n",
    "\n",
    "basemap=nicfi.filter(ee.Filter.date('2019-01-01','2023-03-11')).sort('system:time_start', False).first()\n",
    "\n",
    "print(type(basemap))\n",
    "# Define visualization parameters\n",
    "vis={'bands':['R','G','B'],'min':500,'max':3500,'gamma':2.0}\n",
    "\n",
    "# Get the tile URL format\n",
    "map_id_dict = ee.Image(basemap).getMapId(vis)\n",
    "print(map_id_dict)\n",
    "url = map_id_dict[\"tile_fetcher\"].url_format\n",
    "print(url)\n",
    "\n",
    "url_format = _get_tile_url_format(basemap, vis)\n",
    "print(url_format)"
   ]
  },
  {
   "cell_type": "code",
   "execution_count": null,
   "metadata": {},
   "outputs": [],
   "source": []
  }
 ],
 "metadata": {
  "kernelspec": {
   "display_name": "ArcGISPro",
   "language": "Python",
   "name": "python3"
  },
  "language_info": {
   "file_extension": ".py",
   "name": "python",
   "version": "3"
  }
 },
 "nbformat": 4,
 "nbformat_minor": 2
}
