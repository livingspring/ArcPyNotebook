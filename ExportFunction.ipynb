{
 "cells": [
  {
   "cell_type": "code",
   "execution_count": null,
   "metadata": {},
   "outputs": [],
   "source": [
    "# this note book is for exporting the images from nicfi and sentinel datasource\n",
    "\n",
    "\n",
    "# the exporting rules:\n",
    "# - Target shapefile: 1823_ADRSM\n",
    "# - Important field:'DEN_BOT','AREA_HA','Index',\"SHAPE@\"\n",
    "# - Only export the AREA_HA > 10\n",
    "# - nicfi datasource imported by gee in python notebook\n",
    "# - Sentinel2 could imported by several channel , in this solution is Using arcgis pro Living Atlas (AWS host)\n",
    "# - Dynamic scale properties: \n",
    "#                                   size <10ha , image will scall at 8times \n",
    "#                             the shape 10 ha<size < 50ha , image will scall at 5times.\n",
    "#                            - 50ha<shape size<100ha,  image will scall at 2 times\n",
    "                             #- shape size> 100ha, image will scall at 1.3times\n",
    "\n",
    "# Five Years and 60 image for each dumpsite and using nicif \n",
    "# \n",
    "\n",
    "# Usage:  \n",
    "# 1. Each block have the function description\n",
    "# 2. Nicf: - Get nicif\n",
    "        #  - Determin the date range ( check the new update)\n",
    "        #  - Get Project , map\n",
    "        #  - Processing Exporting\n",
    "        #  - \n",
    "# 3. Sentinel: - Add sentinel data from Livingatlas( or other resoucre option )\n",
    "\n",
    "# 4. Export the 5 years each 12 month of image,60total for one shape( nicfi) \n",
    "\n",
    "# Environment:\n",
    "# - Arcgis pro 3.2.2\n",
    "# - Python 3.8.19"
   ]
  },
  {
   "cell_type": "code",
   "execution_count": 60,
   "metadata": {},
   "outputs": [
    {
     "name": "stdout",
     "output_type": "stream",
     "text": [
      "1823\n",
      "Import, and load shape\n"
     ]
    }
   ],
   "source": [
    "# lib import \n",
    "\n",
    "import arcpy\n",
    "# check the shapefile return selected count of feature class\n",
    "print(arcpy.GetCount_management(\"1823_ADRSM\")) # if selected 1 it will return 1\n",
    "\n",
    "print(\"Import, and load shape\")"
   ]
  },
  {
   "cell_type": "code",
   "execution_count": 61,
   "metadata": {},
   "outputs": [
    {
     "name": "stdout",
     "output_type": "stream",
     "text": [
      "basemap loaded\n"
     ]
    }
   ],
   "source": [
    "# Get nicif\n",
    "\n",
    "# add gee into arcgispro\n",
    "import ee\n",
    "import geemap\n",
    "\n",
    "# Trigger the authentication flow.\n",
    "ee.Authenticate()\n",
    "\n",
    "# Initialize the library.\n",
    "ee.Initialize(project='ee-qinheyi')\n",
    "\n",
    "# init the map\n",
    "m=geemap.Map()\n",
    "\n",
    "nicfi = ee.ImageCollection('projects/planet-nicfi/assets/basemaps/americas')\n",
    "\n",
    "def getDateRange(imageCollection:ee.ImageCollection):\n",
    "    dateRange=imageCollection.aggregate_array('system:time_start')\n",
    "    date_list=[ee.Date(date).format().getInfo() for date in dateRange.getInfo()]\n",
    "    print(date_list)\n",
    "    return date_list\n",
    "\n",
    "# imageRange=getDateRange(nicfi) # because of the server-side function.\n",
    "\n",
    "baseMap=nicfi.filter(ee.Filter.date('2024-02-01','2025-01-11')).sort('system:time_start', False).first()\n",
    "\n",
    "print(\"basemap loaded\")"
   ]
  },
  {
   "cell_type": "code",
   "execution_count": 68,
   "metadata": {
    "scrolled": true
   },
   "outputs": [
    {
     "data": {
      "application/vnd.jupyter.widget-view+json": {
       "model_id": "5d8bc650c9064b47b687326f00cf5ef1",
       "version_major": 2,
       "version_minor": 0
      },
      "text/plain": [
       "Map(bottom=2316683.0, center=[-18.479202030551182, 289.72088813781744], controls=(WidgetControl(options=['posi…"
      ]
     },
     "metadata": {},
     "output_type": "display_data"
    }
   ],
   "source": [
    "# Add nicif\n",
    "\n",
    "# m.centerObject(baseMap,4)\n",
    "# vis={'bands':['R','G','B'],'min':64,'max':5454,'gamma':1.8}  # original vis\n",
    "vis={'bands':['R','G','B'],'min':500,'max':3500,'gamma':2.0}\n",
    "m.addLayer(baseMap,vis,'nicfi')\n",
    "m.height='1600px'\n",
    "display(m)"
   ]
  },
  {
   "cell_type": "code",
   "execution_count": 22,
   "metadata": {},
   "outputs": [
    {
     "name": "stdout",
     "output_type": "stream",
     "text": [
      "1\n",
      "Date: 2024-03-01\n"
     ]
    }
   ],
   "source": [
    "# check out the nicfi time list to decide the date range\n",
    "selected_data='2024-03-01'\n",
    "\n",
    "filted_collection=nicfi.filter(ee.Filter.date(selected_data,'2025-01-11')).sort('system:time_start', False)\n",
    "# Get the dates of all images in the collection\n",
    "dates = filted_collection.aggregate_array('system:time_start')\n",
    "# Convert dates to a list\n",
    "dates_list = dates.getInfo()\n",
    "# Iterate over the dates and print them out\n",
    "print(len(dates_list))\n",
    "for date in dates_list:\n",
    "    print(\"Date:\", ee.Date(date).format(\"YYYY-MM-dd\").getInfo())\n"
   ]
  },
  {
   "cell_type": "code",
   "execution_count": 32,
   "metadata": {},
   "outputs": [
    {
     "name": "stdout",
     "output_type": "stream",
     "text": [
      "current layout name: JpegExport\n",
      "-8475310.2467247 -1503644.91400562 -8470258.71134624 -1499351.47340258 NaN NaN NaN NaN\n",
      "Map\n"
     ]
    }
   ],
   "source": [
    "# Get Project, map, mapview\n",
    "\n",
    "current_project=arcpy.mp.ArcGISProject(\"CURRENT\")\n",
    "layout=current_project.listLayouts()[1]  # 0 is the dataframe drive layout(text,area) # 1 is the \n",
    "print(\"current layout name:\",layout.name)\n",
    "\n",
    "amap=current_project.listMaps()[0]\n",
    "\n",
    "mv=current_project.activeView    #mv=amap.defaultView\n",
    "\n",
    "print(mv.camera.getExtent ())\n",
    "print(amap.name)"
   ]
  },
  {
   "cell_type": "code",
   "execution_count": 61,
   "metadata": {},
   "outputs": [
    {
     "name": "stdout",
     "output_type": "stream",
     "text": [
      " Processing index 1822 Botadero S/N (Punchana)elto Sector Qochayoqpatachuato del servicio de gestión integral de residuos solidos del distrito de Ite\n",
      "\n",
      "Complete all the image\n",
      "Start time: Sat Apr 13 09:25:18 2024\n",
      "Stop time: Sat Apr 13 09:30:00 2024\n",
      "Elapsed time: 282.59 seconds\n"
     ]
    }
   ],
   "source": [
    "# Exporting \n",
    "# Before exporting, confirm the layout is setting well\n",
    "\n",
    "\n",
    "# get the certain shape of shapefile  and iterate the shapefile\n",
    "# handle the mv (mapview), do not effect the layout \n",
    "import time \n",
    "start_time = time.time()\n",
    "\n",
    "fc = \"1823_ADRSM\"\n",
    "fields = ['DEN_BOT','AREA_HA','Index',\"SHAPE@\" ]\n",
    "\n",
    "#get the mapframe in the layout\n",
    "mf= layout.listElements(\"MAPFRAME_ELEMENT\")[0]\n",
    "\n",
    "path=r\"C:\\Users\\lycaz\\Desktop\\JPEGS_sent\"    # change it before exporting !!!!!!\n",
    "time_stamp=\"202403\"                         # check it as well \n",
    "text_datasource=\"Sentinal\" # or \"Nicif\" \"Sentinel\"        # change it bfore export \n",
    "\n",
    "\n",
    "\n",
    "\n",
    "with arcpy.da.SearchCursor(fc, fields) as cursor:\n",
    "    count_im=0\n",
    "    for row in cursor:\n",
    "        #print(u'{0}, {1},{2}'.format(row[2],row[0], row[1]))\n",
    "     \n",
    "        print(f\" Processing index {row[2]} {row[0]}\", end=\"\\r\")\n",
    "        if row[1] > 10:\n",
    "            count_im+=1\n",
    "            print(f\"image coount {count_im}\", end=\"\\r\")\n",
    "            geometry=row[3]\n",
    "            mv.camera.setExtent(geometry.extent)\n",
    "            amap.defaultCamera=mv.camera\n",
    "            amap.defaultCamera.scale*=1.5\n",
    "            mf.camera.setExtent(amap.defaultCamera.getExtent())\n",
    "            if row[1]<10:\n",
    "                mf.camera.scale*=8\n",
    "            elif row[1]<20:\n",
    "                mf.camera.scale*=5\n",
    "            elif row[1]<100:\n",
    "                mf.camera.scale*=2\n",
    "            else:\n",
    "                mf.camera.scale*=1.3\n",
    "            ele=layout.listElements(wildcard=\"Text\")[0]\n",
    "            ele.text=f\"{row[2]}-{row[0]}-{time_stamp}-{row[1]:.2f}ha\"\n",
    "            ele_source=layout.listElements(wildcard=\"Text 1\")[0]\n",
    "            ele_source.text=text_datasource\n",
    "            layout.exportToJPEG(f\"{path}\\\\{str(row[2])}-{time_stamp}-{text_datasource}.jpg\",resolution=300)\n",
    "    print('\\n')\n",
    "    print(\"Complete all the image\")\n",
    "\n",
    "stop_time = time.time()\n",
    "elapsed_time = stop_time - start_time\n",
    "\n",
    "print(f\"Start time: {time.ctime(start_time)}\")\n",
    "print(f\"Stop time: {time.ctime(stop_time)}\")\n",
    "print(f\"Elapsed time: {elapsed_time:.2f} seconds\")"
   ]
  },
  {
   "cell_type": "code",
   "execution_count": 31,
   "metadata": {},
   "outputs": [
    {
     "name": "stdout",
     "output_type": "stream",
     "text": [
      "181.24151696\n",
      "<class 'arcpy.arcobjects.geometries.Polygon'>\n",
      "[<Polygon object at 0x1f38ab44070[0x1f30ed3fde0]>]\n",
      "0.025418119999999433 0.019702124999994908\n",
      "-76.116801368 -13.3816299269999 -76.097099243 -13.3562118069999 0 0 nan nan\n"
     ]
    }
   ],
   "source": [
    "# Function for timely review the imagry\n",
    "# iterate all time from recently 5 years \n",
    "# show it in certain place \n",
    "\n",
    "\n",
    "\n",
    "# function to query certain shape return the geometrys , using index ,using size ha as query_str\n",
    "def query_geometry(query_str):\n",
    "    geometries = []\n",
    "    # Use a search cursor to iterate over the features that match the query\n",
    "    with arcpy.da.SearchCursor(\"1823_ADRSM\", ['AREA_HA','SHAPE@'], where_clause=query_str) as cursor:\n",
    "        for row in cursor:\n",
    "            # Access the geometry of each feature\n",
    "            geometry = row[1]\n",
    "            # Add the geometry to the list\n",
    "            geometries.append(geometry)\n",
    "            print(row[0])\n",
    "            print(type(row[1]))\n",
    "    return geometries\n",
    "\n",
    "\n",
    "# showcase \n",
    "\n",
    "sql_query=\"Index=1171\"\n",
    "selected_geo=query_geometry(sql_query)\n",
    "if len(selected_geo)==1:\n",
    "    print(selected_geo)\n",
    "    print(selected_geo[0].extent.height,selected_geo[0].extent.width)\n",
    "    # center to this geo\n",
    "    #mv.panToExtent(selected_geo[0].extent)\n",
    "    #mv.camera.setExtent(selected_geo[0].extent)\n",
    "    amap.defaultCamera.setExtent(selected_geo[0].extent)\n",
    "    amap.defaultCamera.scale*=1.5\n",
    "    \n",
    "    print(mv.camera.getExtent ())\n",
    "\n",
    "    \n",
    "\n",
    "# change basemap\n",
    "\n",
    "start_year=2019\n",
    "end_year=2024\n",
    "date_list=[]\n",
    "for i in range(start_year,end_year):\n",
    "    for j in range(3,13):\n",
    "        if j >9:\n",
    "            date_list.append(f\"{i}-{j}-01\")\n",
    "        else:\n",
    "            date_list.append(f\"{i}-0{j}-01\")\n",
    "    date_list.append(f\"{i+1}-01-01\")\n",
    "    date_list.append(f\"{i+1}-02-01\")\n",
    "\n",
    "\n",
    "basemaps=       \n",
    "    "
   ]
  },
  {
   "cell_type": "code",
   "execution_count": 82,
   "metadata": {
    "scrolled": false
   },
   "outputs": [
    {
     "name": "stdout",
     "output_type": "stream",
     "text": [
      "<class 'ee.image.Image'>\n",
      "{'mapid': 'projects/ee-qinheyi/maps/a8747266b8de80cffe594a0c078b3b4c-4115f79a30eba797b6c398402fa88132', 'token': '', 'tile_fetcher': <ee.data.TileFetcher object at 0x000001F39CC21070>, 'image': <ee.image.Image object at 0x000001F39CC4F4F0>}\n",
      "https://earthengine.googleapis.com/v1/projects/ee-qinheyi/maps/a8747266b8de80cffe594a0c078b3b4c-4115f79a30eba797b6c398402fa88132/tiles/{z}/{x}/{y}\n",
      "https://earthengine.googleapis.com/v1/projects/ee-qinheyi/maps/a8747266b8de80cffe594a0c078b3b4c-e42174e0132e6abec57d4116f009c856/tiles/{z}/{x}/{y}\n"
     ]
    }
   ],
   "source": [
    "from geemap.ee_tile_layers import _get_tile_url_format\n",
    "\n",
    "basemap=nicfi.filter(ee.Filter.date('2019-01-01','2023-03-11')).sort('system:time_start', False).first()\n",
    "\n",
    "print(type(basemap))\n",
    "# Define visualization parameters\n",
    "vis={'bands':['R','G','B'],'min':500,'max':3500,'gamma':2.0}\n",
    "\n",
    "# Get the tile URL format\n",
    "map_id_dict = ee.Image(basemap).getMapId(vis)\n",
    "print(map_id_dict)\n",
    "url = map_id_dict[\"tile_fetcher\"].url_format\n",
    "print(url)\n",
    "\n",
    "url_format = _get_tile_url_format(basemap, vis)\n",
    "print(url_format)"
   ]
  },
  {
   "cell_type": "code",
   "execution_count": null,
   "metadata": {},
   "outputs": [],
   "source": []
  }
 ],
 "metadata": {
  "kernelspec": {
   "display_name": "ArcGISPro",
   "language": "Python",
   "name": "python3"
  },
  "language_info": {
   "file_extension": ".py",
   "name": "python",
   "version": "3.9.18"
  }
 },
 "nbformat": 4,
 "nbformat_minor": 2
}
